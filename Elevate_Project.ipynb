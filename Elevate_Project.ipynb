{
  "nbformat": 4,
  "nbformat_minor": 0,
  "metadata": {
    "colab": {
      "private_outputs": true,
      "provenance": []
    },
    "kernelspec": {
      "name": "python3",
      "display_name": "Python 3"
    },
    "language_info": {
      "name": "python"
    }
  },
  "cells": [
    {
      "cell_type": "code",
      "execution_count": null,
      "metadata": {
        "id": "lYsE2X5b3WUA"
      },
      "outputs": [],
      "source": [
        "!pip install pandas scikit-learn matplotlib seaborn joblib\n"
      ]
    },
    {
      "cell_type": "code",
      "source": [
        "from google.colab import files\n",
        "uploaded = files.upload()\n"
      ],
      "metadata": {
        "id": "Yue_JQEt3dy7"
      },
      "execution_count": null,
      "outputs": []
    },
    {
      "cell_type": "code",
      "source": [
        "!pip install kaggle\n",
        "from google.colab import files\n",
        "\n",
        "# Upload kaggle.json (your API key file)\n",
        "files.upload()\n",
        "\n",
        "# Make directory for Kaggle API\n",
        "!mkdir -p ~/.kaggle\n",
        "!cp kaggle.json ~/.kaggle/\n",
        "!chmod 600 ~/.kaggle/kaggle.json\n",
        "\n",
        "# Download dataset\n",
        "!kaggle datasets download -d joniarroba/noshowappointments\n",
        "!unzip noshowappointments.zip\n"
      ],
      "metadata": {
        "id": "IKEbg4JP3dvl"
      },
      "execution_count": null,
      "outputs": []
    },
    {
      "cell_type": "code",
      "source": [
        "import pandas as pd\n",
        "\n",
        "df = pd.read_csv(\"KaggleV2-May-2016.csv\")\n",
        "\n",
        "# Standardize column names\n",
        "df.columns = df.columns.str.strip().str.lower().str.replace(\"-\", \"_\").str.replace(\" \", \"_\")\n",
        "\n",
        "# Parse dates\n",
        "df['scheduledday'] = pd.to_datetime(df['scheduledday'])\n",
        "df['appointmentday'] = pd.to_datetime(df['appointmentday'])\n",
        "\n",
        "# Target encoding\n",
        "df['no_show'] = (df['no_show'] == 'Yes').astype(int)\n",
        "\n",
        "# Drop invalid ages\n",
        "df = df[(df['age'] >= 0) & (df['age'] <= 115)]\n",
        "\n",
        "# Feature engineering\n",
        "df['wait_days'] = (df['appointmentday'] - df['scheduledday']).dt.days.clip(lower=0)\n",
        "df['appt_weekday'] = df['appointmentday'].dt.day_name()\n",
        "df['is_weekend'] = df['appointmentday'].dt.weekday >= 5\n",
        "df['age_band'] = pd.cut(df['age'], bins=[0,12,19,59,120],\n",
        "                        labels=['child','teen','adult','senior'], include_lowest=True)\n",
        "\n",
        "df.head()\n"
      ],
      "metadata": {
        "id": "OLlxXyuz3dte"
      },
      "execution_count": null,
      "outputs": []
    },
    {
      "cell_type": "code",
      "source": [
        "import seaborn as sns\n",
        "import matplotlib.pyplot as plt\n",
        "\n",
        "# SMS effect\n",
        "sns.barplot(x='sms_received', y='no_show', data=df)\n",
        "plt.title(\"No-Show Rate by SMS Received\")\n",
        "plt.show()\n",
        "\n",
        "# Weekday effect\n",
        "sns.barplot(x='appt_weekday', y='no_show', data=df, order=['Monday','Tuesday','Wednesday','Thursday','Friday','Saturday','Sunday'])\n",
        "plt.title(\"No-Show Rate by Weekday\")\n",
        "plt.show()\n"
      ],
      "metadata": {
        "id": "_Ef5dzBx3drK"
      },
      "execution_count": null,
      "outputs": []
    },
    {
      "cell_type": "code",
      "source": [
        "from sklearn.model_selection import train_test_split\n",
        "from sklearn.tree import DecisionTreeClassifier\n",
        "from sklearn.compose import ColumnTransformer\n",
        "from sklearn.preprocessing import OneHotEncoder\n",
        "from sklearn.pipeline import Pipeline\n",
        "from sklearn.metrics import classification_report, confusion_matrix, roc_auc_score\n",
        "\n",
        "features = ['gender','age','age_band','neighbourhood','scholarship','hipertension',\n",
        "            'diabetes','alcoholism','handcap','sms_received','wait_days','appt_weekday','is_weekend']\n",
        "X = df[features]\n",
        "y = df['no_show']\n",
        "\n",
        "X_train, X_test, y_train, y_test = train_test_split(X, y, test_size=0.2, stratify=y, random_state=42)\n",
        "\n",
        "num_cols = ['age','wait_days']\n",
        "cat_cols = [col for col in features if col not in num_cols]\n",
        "\n",
        "pre = ColumnTransformer([\n",
        "    ('cat', OneHotEncoder(handle_unknown='ignore'), cat_cols),\n",
        "    ('num', 'passthrough', num_cols)\n",
        "])\n",
        "\n",
        "tree = DecisionTreeClassifier(max_depth=6, min_samples_leaf=50, class_weight='balanced', random_state=42)\n",
        "pipe = Pipeline([('pre', pre), ('clf', tree)])\n",
        "pipe.fit(X_train, y_train)\n",
        "\n",
        "pred = pipe.predict(X_test)\n",
        "proba = pipe.predict_proba(X_test)[:,1]\n",
        "\n",
        "print(confusion_matrix(y_test, pred))\n",
        "print(classification_report(y_test, pred, digits=3))\n",
        "print(\"ROC-AUC:\", roc_auc_score(y_test, proba))\n"
      ],
      "metadata": {
        "id": "l_JFA-a33doq"
      },
      "execution_count": null,
      "outputs": []
    },
    {
      "cell_type": "code",
      "source": [
        "import joblib\n",
        "\n",
        "# Save model\n",
        "joblib.dump(pipe, \"tree_model.pkl\")\n",
        "\n",
        "# Save scored dataset\n",
        "results = X_test.copy()\n",
        "results['actual_no_show'] = y_test.values\n",
        "results['predicted_no_show'] = pred\n",
        "results['predicted_proba'] = proba\n",
        "results.to_csv(\"predictions.csv\", index=False)\n"
      ],
      "metadata": {
        "id": "5bW7zDmt3dmW"
      },
      "execution_count": null,
      "outputs": []
    },
    {
      "cell_type": "code",
      "source": [
        "from google.colab import files\n",
        "files.download(\"tree_model.pkl\")\n",
        "files.download(\"predictions.csv\")\n"
      ],
      "metadata": {
        "id": "AhslgdrN3dj6"
      },
      "execution_count": null,
      "outputs": []
    },
    {
      "cell_type": "code",
      "source": [
        "files.download(\"predictions.csv\")"
      ],
      "metadata": {
        "id": "N-mP_Z4W3dhl"
      },
      "execution_count": null,
      "outputs": []
    },
    {
      "cell_type": "code",
      "source": [],
      "metadata": {
        "id": "WqS0sN343dfk"
      },
      "execution_count": null,
      "outputs": []
    },
    {
      "cell_type": "code",
      "source": [],
      "metadata": {
        "id": "_m0PJvI93dc4"
      },
      "execution_count": null,
      "outputs": []
    },
    {
      "cell_type": "code",
      "source": [],
      "metadata": {
        "id": "84Ciqm_t3daY"
      },
      "execution_count": null,
      "outputs": []
    },
    {
      "cell_type": "code",
      "source": [],
      "metadata": {
        "id": "GNeTRAoA3dX4"
      },
      "execution_count": null,
      "outputs": []
    },
    {
      "cell_type": "code",
      "source": [],
      "metadata": {
        "id": "8FKl58773dVg"
      },
      "execution_count": null,
      "outputs": []
    },
    {
      "cell_type": "code",
      "source": [],
      "metadata": {
        "id": "VEE-h5573dTH"
      },
      "execution_count": null,
      "outputs": []
    },
    {
      "cell_type": "code",
      "source": [],
      "metadata": {
        "id": "dCP2gFJD3dQH"
      },
      "execution_count": null,
      "outputs": []
    },
    {
      "cell_type": "code",
      "source": [],
      "metadata": {
        "id": "OoFkLGsC3dNc"
      },
      "execution_count": null,
      "outputs": []
    },
    {
      "cell_type": "code",
      "source": [],
      "metadata": {
        "id": "qPng9YKe3dGP"
      },
      "execution_count": null,
      "outputs": []
    }
  ]
}